{
 "cells": [
  {
   "cell_type": "code",
   "execution_count": 3,
   "metadata": {},
   "outputs": [],
   "source": [
    "import numpy as np\n",
    "import matplotlib.pyplot as plt\n"
   ]
  },
  {
   "cell_type": "code",
   "execution_count": 3,
   "metadata": {},
   "outputs": [],
   "source": [
    "asList = [1,2,3,4]\n",
    "asArray = np.array([1,2,3,4])\n",
    "rowVec = np.array([[1,2,3,4]])\n",
    "colVec = np.array([[1],[2],[3],[4]])\n"
   ]
  },
  {
   "cell_type": "code",
   "execution_count": 4,
   "metadata": {},
   "outputs": [
    {
     "name": "stdout",
     "output_type": "stream",
     "text": [
      "asList: (4,)\n",
      "asList: (4,)\n",
      "asList: (1, 4)\n",
      "asList: (4, 1)\n"
     ]
    }
   ],
   "source": [
    "print(f'asList: {np.shape(asList)}')\n",
    "print(f'asList: {asArray.shape}')\n",
    "print(f'asList: {rowVec.shape}')\n",
    "print(f'asList: {colVec.shape}')\n"
   ]
  },
  {
   "cell_type": "code",
   "execution_count": 5,
   "metadata": {},
   "outputs": [
    {
     "name": "stdout",
     "output_type": "stream",
     "text": [
      "[14 25 36]\n"
     ]
    }
   ],
   "source": [
    "# vector addion and subtraction\n",
    "v = np.array([4,5,6])\n",
    "w = np.array([10,20,30])\n",
    "u = np.array([0, 3, 6, 9])\n",
    "\n",
    "# sum of same dimentions vectors\n",
    "vPlusW = v + w\n",
    "print(vPlusW)\n"
   ]
  },
  {
   "cell_type": "code",
   "execution_count": 6,
   "metadata": {},
   "outputs": [
    {
     "ename": "ValueError",
     "evalue": "operands could not be broadcast together with shapes (4,) (3,) ",
     "output_type": "error",
     "traceback": [
      "\u001b[0;31m---------------------------------------------------------------------------\u001b[0m",
      "\u001b[0;31mValueError\u001b[0m                                Traceback (most recent call last)",
      "Cell \u001b[0;32mIn[6], line 3\u001b[0m\n\u001b[1;32m      1\u001b[0m \u001b[38;5;66;03m# sum of not same dimentions vectors\u001b[39;00m\n\u001b[0;32m----> 3\u001b[0m uPlusW \u001b[38;5;241m=\u001b[39m \u001b[43mu\u001b[49m\u001b[43m \u001b[49m\u001b[38;5;241;43m+\u001b[39;49m\u001b[43m \u001b[49m\u001b[43mw\u001b[49m\n\u001b[1;32m      4\u001b[0m \u001b[38;5;28mprint\u001b[39m(uPlusW)\n",
      "\u001b[0;31mValueError\u001b[0m: operands could not be broadcast together with shapes (4,) (3,) "
     ]
    }
   ],
   "source": [
    "# sum of not same dimentions vectors\n",
    "\n",
    "uPlusW = u + w #it should throw an error\n",
    "print(uPlusW)"
   ]
  },
  {
   "cell_type": "code",
   "execution_count": 7,
   "metadata": {},
   "outputs": [
    {
     "name": "stdout",
     "output_type": "stream",
     "text": [
      "[[14 15 16]\n",
      " [24 25 26]\n",
      " [34 35 36]]\n"
     ]
    }
   ],
   "source": [
    "# add row to col\n",
    "v = np.array([[4,5,6]])# row\n",
    "w = np.array([[10,20,30]]).T # col\n",
    "print(v+w)\n"
   ]
  },
  {
   "cell_type": "code",
   "execution_count": 8,
   "metadata": {},
   "outputs": [
    {
     "name": "stdout",
     "output_type": "stream",
     "text": [
      "[3, 4, 5, 3, 4, 5]\n",
      "[ 9 16 25]\n"
     ]
    }
   ],
   "source": [
    "# scalers\n",
    "\n",
    "s = 2\n",
    "a = [3, 4, 5] # list\n",
    "b = np.array(a) # np array\n",
    "\n",
    "print(a*s)\n",
    "print(a*b)\n"
   ]
  },
  {
   "cell_type": "code",
   "execution_count": 9,
   "metadata": {},
   "outputs": [
    {
     "name": "stdout",
     "output_type": "stream",
     "text": [
      "[5 8]\n"
     ]
    }
   ],
   "source": [
    "# addition scaler\n",
    "s = 2\n",
    "v = np.array([3, 6])\n",
    "print(s+v)"
   ]
  },
  {
   "cell_type": "code",
   "execution_count": 10,
   "metadata": {},
   "outputs": [
    {
     "name": "stdout",
     "output_type": "stream",
     "text": [
      "[[11 21]\n",
      " [12 22]\n",
      " [13 23]]\n"
     ]
    }
   ],
   "source": [
    "# vector Broadcasting\n",
    "v = np.array([[1,2,3]]).T # col\n",
    "w = np.array([[10,20]]) # row\n",
    "print(v+w)"
   ]
  },
  {
   "cell_type": "code",
   "execution_count": 11,
   "metadata": {},
   "outputs": [
    {
     "name": "stdout",
     "output_type": "stream",
     "text": [
      "dims: 6\n",
      "mag: 14.422205101855956\n"
     ]
    }
   ],
   "source": [
    "# magnitude\n",
    "v = np.array([1,2,3,7,8,9])\n",
    "vDim = len(v)\n",
    "vMag = np.linalg.norm(v)\n",
    "print(f\"dims: {vDim}\")\n",
    "print(f\"mag: {vMag}\")"
   ]
  },
  {
   "cell_type": "code",
   "execution_count": 12,
   "metadata": {},
   "outputs": [
    {
     "name": "stdout",
     "output_type": "stream",
     "text": [
      "70\n"
     ]
    }
   ],
   "source": [
    "# dot product\n",
    "v = np.array([1,2,3,4])\n",
    "w = np.array([5,6,7,8])\n",
    "dot = np.dot(v,w)\n",
    "print(dot)"
   ]
  },
  {
   "cell_type": "code",
   "execution_count": 13,
   "metadata": {},
   "outputs": [
    {
     "name": "stdout",
     "output_type": "stream",
     "text": [
      "[5 8]\n"
     ]
    }
   ],
   "source": [
    "# addition scaler\n",
    "s = 2\n",
    "v = np.array([3, 6])\n",
    "print(s+v)"
   ]
  },
  {
   "cell_type": "code",
   "execution_count": 14,
   "metadata": {},
   "outputs": [
    {
     "name": "stdout",
     "output_type": "stream",
     "text": [
      "[[11 21]\n",
      " [12 22]\n",
      " [13 23]]\n"
     ]
    }
   ],
   "source": [
    "# vector Broadcasting\n",
    "v = np.array([[1,2,3]]).T # col\n",
    "w = np.array([[10,20]]) # row\n",
    "print(v+w)"
   ]
  },
  {
   "cell_type": "code",
   "execution_count": 15,
   "metadata": {},
   "outputs": [
    {
     "name": "stdout",
     "output_type": "stream",
     "text": [
      "dims: 6\n",
      "mag: 14.422205101855956\n"
     ]
    }
   ],
   "source": [
    "# magnitude\n",
    "v = np.array([1,2,3,7,8,9])\n",
    "vDim = len(v)\n",
    "vMag = np.linalg.norm(v)\n",
    "print(f\"dims: {vDim}\")\n",
    "print(f\"mag: {vMag}\")"
   ]
  },
  {
   "cell_type": "code",
   "execution_count": 16,
   "metadata": {},
   "outputs": [
    {
     "name": "stdout",
     "output_type": "stream",
     "text": [
      "70\n"
     ]
    }
   ],
   "source": [
    "# dot product\n",
    "v = np.array([1,2,3,4])\n",
    "w = np.array([5,6,7,8])\n",
    "dot = np.dot(v,w)\n",
    "print(dot)"
   ]
  },
  {
   "cell_type": "code",
   "execution_count": 17,
   "metadata": {},
   "outputs": [
    {
     "name": "stdout",
     "output_type": "stream",
     "text": [
      "700\n"
     ]
    }
   ],
   "source": [
    "#scalor with dot product\n",
    "s = 10\n",
    "dot = np.dot(v*s,w)\n",
    "print(dot)"
   ]
  },
  {
   "cell_type": "code",
   "execution_count": 18,
   "metadata": {},
   "outputs": [
    {
     "name": "stdout",
     "output_type": "stream",
     "text": [
      "110 = 110\n"
     ]
    }
   ],
   "source": [
    "# distributivity of dot product\n",
    "a = np.array([0,1,2])\n",
    "b = np.array([3,5,8])\n",
    "c = np.array([13,21,34])\n",
    "\n",
    "dot = np.dot(a, b+c)\n",
    "dot2 = np.dot(a,b) + np.dot(a,c)\n",
    "\n",
    "print(f\"{dot} = {dot2}\")"
   ]
  },
  {
   "cell_type": "code",
   "execution_count": 19,
   "metadata": {},
   "outputs": [
    {
     "name": "stdout",
     "output_type": "stream",
     "text": [
      "[ 0  5 16]\n"
     ]
    }
   ],
   "source": [
    "#handamard multiplicaiton\n",
    "# a = np.array([0,1,2,3])# throw an error cause they are not the same dimntionilaty\n",
    "b = np.array([3,5,8])\n",
    "print(a*b)"
   ]
  },
  {
   "cell_type": "code",
   "execution_count": null,
   "metadata": {},
   "outputs": [],
   "source": [
    "# exersises:"
   ]
  },
  {
   "cell_type": "code",
   "execution_count": 29,
   "metadata": {},
   "outputs": [
    {
     "data": {
      "image/png": "[encoded data removed]",
      "text/plain": [
       "<Figure size 400x400 with 1 Axes>"
      ]
     },
     "metadata": {},
     "output_type": "display_data"
    },
    {
     "data": {
      "image/png": "[encoded data removed]",
      "text/plain": [
       "<Figure size 400x400 with 1 Axes>"
      ]
     },
     "metadata": {},
     "output_type": "display_data"
    }
   ],
   "source": [
    "#ex num 1:\n",
    "\n",
    "u = np.array([4,-6])\n",
    "w = np.array([1,2])\n",
    "wpu = w + u\n",
    "mu = - u\n",
    "wmu = w + mu\n",
    "\n",
    "\n",
    "plt.figure(figsize = (4,4))\n",
    "\n",
    "plt.arrow(0,0,w[0],w[1],head_width = .2,length_includes_head= True)\n",
    "plt.arrow(w[0],w[1],u[0],u[1],head_width = .2,length_includes_head= True)\n",
    "plt.arrow(0,0,wpu[0],wpu[1],head_width = .2,length_includes_head= True)\n",
    "plt.xlim(-3,6)\n",
    "plt.ylim(-6,3)\n",
    "plt.show()\n",
    "\n",
    "\n",
    "\n",
    "\n",
    "\n",
    "# here I used different techneque in vector minus vector:\n",
    "# it is to invers the subtracted and make noraml addition\n",
    "\n",
    "plt.figure(figsize = (4,4))\n",
    "plt.arrow(0,0,w[0],w[1],head_width = .2,length_includes_head= True)\n",
    "plt.arrow(w[0],w[1],mu[0],mu[1],head_width = .2,length_includes_head= True)\n",
    "plt.arrow(0,0,wmu[0],wmu[1],head_width = .2,length_includes_head= True)\n",
    "\n",
    "\n",
    "plt.xlim(-4,6)\n",
    "plt.ylim(-1,9)\n",
    "plt.show()"
   ]
  },
  {
   "cell_type": "code",
   "execution_count": 42,
   "metadata": {},
   "outputs": [
    {
     "name": "stdout",
     "output_type": "stream",
     "text": [
      "5.0\n"
     ]
    }
   ],
   "source": [
    "# ex 2:\n",
    "\n",
    "def norm (vec):\n",
    "    sum = 0\n",
    "    for i in vec:\n",
    "        sum += i**2\n",
    "    res = np.sqrt(sum)\n",
    "    return res\n",
    "\n",
    "\n",
    "array = np.array([3,4]).T # try dif orientations and dimensionalities\n",
    "\n",
    "print(norm(array))\n",
    "\n"
   ]
  },
  {
   "cell_type": "code",
   "execution_count": 26,
   "metadata": {},
   "outputs": [
    {
     "name": "stdout",
     "output_type": "stream",
     "text": [
      "[0.6 0.8]\n"
     ]
    }
   ],
   "source": [
    "# ex 3:\n",
    "\n",
    "def unit(vec):\n",
    "    return vec / norm(vec)\n",
    "\n",
    "print(unit(array))\n",
    "\n"
   ]
  },
  {
   "cell_type": "code",
   "execution_count": 28,
   "metadata": {},
   "outputs": [
    {
     "name": "stdout",
     "output_type": "stream",
     "text": [
      "[6. 8.]\n"
     ]
    }
   ],
   "source": [
    "# ex 4:\n",
    "\n",
    "def arb(vec, mag):\n",
    "    return mag* unit(vec)\n",
    "\n",
    "print(arb(array, 10))"
   ]
  },
  {
   "cell_type": "code",
   "execution_count": 86,
   "metadata": {},
   "outputs": [
    {
     "name": "stdout",
     "output_type": "stream",
     "text": [
      "test 1:\n",
      "[[1]\n",
      " [2]\n",
      " [3]\n",
      " [4]]\n",
      "[[1. 2. 3. 4.]]\n",
      "test 2:\n",
      "[[5 6 7 8]]\n",
      "[[5.]\n",
      " [6.]\n",
      " [7.]\n",
      " [8.]]\n"
     ]
    }
   ],
   "source": [
    "# ex 5:\n",
    "\n",
    "def tran(vec):\n",
    "    len, wid = vec.shape\n",
    "    vecd = np.empty((wid, len))\n",
    "    if wid > 1:\n",
    "        for i in range(wid):\n",
    "            vecd[i,0] = vec[0,i]\n",
    "    elif len > 1:\n",
    "        for i in range(len):\n",
    "            vecd[0,i] = vec[i,0]\n",
    "    return vecd\n",
    "\n",
    "v = np.array([[1,2,3,4]]).T\n",
    "u = np.array([[5,6,7,8]])\n",
    "print(\"test 1:\")\n",
    "print(v)\n",
    "print(tran(v))\n",
    "print(\"test 2:\")\n",
    "print(u)\n",
    "print(tran(u))"
   ]
  },
  {
   "cell_type": "code",
   "execution_count": 46,
   "metadata": {},
   "outputs": [
    {
     "name": "stdout",
     "output_type": "stream",
     "text": [
      "174 is equal to 174\n"
     ]
    }
   ],
   "source": [
    "# ex 6:\n",
    "\n",
    "u = np.array([5,6,7,8])\n",
    "\n",
    "dot = np.dot(u,u)\n",
    "nor = int(norm(u)**2)\n",
    "\n",
    "print(f\"{nor} is equal to {dot}\")\n"
   ]
  },
  {
   "cell_type": "code",
   "execution_count": 47,
   "metadata": {},
   "outputs": [
    {
     "name": "stdout",
     "output_type": "stream",
     "text": [
      "70 is equal to 70 so it's commutitive\n"
     ]
    }
   ],
   "source": [
    "# ex 7:\n",
    "\n",
    "u = np.array([5,6,7,8])\n",
    "v = np.array([1,2,3,4])\n",
    "\n",
    "dot1 = np.dot(u,v)\n",
    "dot2 = np.dot(v,u)\n",
    "\n",
    "print(f\"{dot1} is equal to {dot2} so it's commutitive\")\n"
   ]
  },
  {
   "cell_type": "code",
   "execution_count": 4,
   "metadata": {},
   "outputs": [
    {
     "data": {
      "image/png": "[encoded data removed]",
      "text/plain": [
       "<Figure size 600x600 with 1 Axes>"
      ]
     },
     "metadata": {},
     "output_type": "display_data"
    }
   ],
   "source": [
    "# ex 8:\n",
    "\n",
    "def orth(vec, vec2):\n",
    "    return (np.dot(vec, vec2))/(np.dot(vec, vec))\n",
    "\n",
    "a = np.array([2,5])\n",
    "b = np.array([4,1])\n",
    "a2 = orth(a,b) * a\n",
    "beta = b - a2\n",
    "plt.figure(figsize = (6,6))\n",
    "\n",
    "plt.xlim(0,10)\n",
    "plt.ylim(0,10)\n",
    "\n",
    "plt.arrow(0,0,a[0],a[1],head_width = .2,length_includes_head = True)\n",
    "plt.arrow(0,0,b[0],b[1],head_width = .2,length_includes_head = True)\n",
    "plt.arrow(a2[0],a2[1],beta[0],beta[1])\n",
    "plt.grid(True)\n"
   ]
  },
  {
   "cell_type": "code",
   "execution_count": 5,
   "metadata": {},
   "outputs": [
    {
     "name": "stdout",
     "output_type": "stream",
     "text": [
      "sum of two comps is [9. 2.] and it's equal to y([9 2])\n",
      "also it's orthogonal as their dot product is: 0\n"
     ]
    },
    {
     "data": {
      "image/png": "[encoded data removed]",
      "text/plain": [
       "<Figure size 1000x1000 with 1 Axes>"
      ]
     },
     "metadata": {},
     "output_type": "display_data"
    }
   ],
   "source": [
    "# ex 9:\n",
    "\n",
    "def comp(y, x):\n",
    "    return (x*orth(x,y)), y - (x*orth(x,y))\n",
    "\n",
    "\n",
    "x = (10*np.random.rand(2)).astype(int)\n",
    "y = (10*np.random.rand(2)).astype(int)\n",
    "\n",
    "px,ox = comp(y,x)\n",
    "d = round(np.dot(px,ox))\n",
    "\n",
    "plt.figure(figsize = (10,10))\n",
    "plt.xlim(-10,10)\n",
    "plt.ylim(-10,10)\n",
    "\n",
    "plt.arrow(0,0,x[0],x[1],head_width = .2,length_includes_head = True)\n",
    "plt.arrow(0,0,y[0],y[1],head_width = .2,length_includes_head = True, color = 'red')\n",
    "plt.arrow(0,0,px[0],px[1], color = 'blue',head_width = .1,length_includes_head = True)\n",
    "plt.arrow(0,0,ox[0],ox[1], color = 'blue',head_width = .1,length_includes_head = True)\n",
    "\n",
    "print(f'sum of two comps is {px+ox} and it\\'s equal to y({y})')\n",
    "print(f'also it\\'s orthogonal as their dot product is: {d}')"
   ]
  },
  {
   "cell_type": "code",
   "execution_count": 59,
   "metadata": {},
   "outputs": [
    {
     "name": "stdout",
     "output_type": "stream",
     "text": [
      "[2.55172414 6.77586207] [-2.2  4.4] so it deviates\n",
      "12\n",
      "0\n"
     ]
    }
   ],
   "source": [
    "# ex 10:\n",
    "\n",
    "x = (10*np.random.rand(2)).astype(int)\n",
    "y = (10*np.random.rand(2)).astype(int)\n",
    "\n",
    "wrong = y - (x * orth(y,x))  # the wrong one\n",
    "right = y - (x * orth(x,y))  # the right one\n",
    "print(wrong, right, \"so it deviates\")\n",
    "\n",
    "# how to check: of course by using dot product with x which must be zero\n",
    "print(round(np.dot(wrong, x))) # it's not zero so it's wrong\n",
    "print(round(np.dot(right, x))) # it's zero so it's right"
   ]
  }
 ],
 "metadata": {
  "kernelspec": {
   "display_name": "Python 3 (ipykernel)",
   "language": "python",
   "name": "python3"
  },
  "language_info": {
   "codemirror_mode": {
    "name": "ipython",
    "version": 3
   },
   "file_extension": ".py",
   "mimetype": "text/x-python",
   "name": "python",
   "nbconvert_exporter": "python",
   "pygments_lexer": "ipython3",
   "version": "3.11.0"
  }
 },
 "nbformat": 4,
 "nbformat_minor": 4
}
